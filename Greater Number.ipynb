{
 "cells": [
  {
   "cell_type": "code",
   "execution_count": 7,
   "id": "2f332b2d",
   "metadata": {},
   "outputs": [
    {
     "name": "stdout",
     "output_type": "stream",
     "text": [
      "B Is Greater\n"
     ]
    }
   ],
   "source": [
    "a=5\n",
    "b=9\n",
    "if a>b:\n",
    "    print(\"A Is Greater\")\n",
    "else:\n",
    "    print(\"B Is Greater\")"
   ]
  },
  {
   "cell_type": "code",
   "execution_count": 6,
   "id": "3fcefadc",
   "metadata": {},
   "outputs": [
    {
     "name": "stdout",
     "output_type": "stream",
     "text": [
      "C Is Greater\n"
     ]
    }
   ],
   "source": [
    "c=10\n",
    "d=6\n",
    "if c>d:\n",
    "    print(\"C Is Greater\")\n",
    "else:\n",
    "    print(\"D Is Greater\")"
   ]
  },
  {
   "cell_type": "code",
   "execution_count": 5,
   "id": "07b1e9b7",
   "metadata": {},
   "outputs": [
    {
     "name": "stdout",
     "output_type": "stream",
     "text": [
      "Y Is Greater\n"
     ]
    }
   ],
   "source": [
    "x=0.123\n",
    "y=3.564\n",
    "if x>y:\n",
    "    print(\"X Is Greater\")\n",
    "else:\n",
    "    print(\"Y Is Greater\")"
   ]
  },
  {
   "cell_type": "code",
   "execution_count": 8,
   "id": "fb8ec486",
   "metadata": {},
   "outputs": [
    {
     "name": "stdout",
     "output_type": "stream",
     "text": [
      "S Is Greater\n"
     ]
    }
   ],
   "source": [
    "s=1.234\n",
    "t=0.012\n",
    "if s>t:\n",
    "    print(\"S Is Greater\")\n",
    "else:\n",
    "    print(\"T Is Greater\")"
   ]
  },
  {
   "cell_type": "code",
   "execution_count": null,
   "id": "86e5cd64",
   "metadata": {},
   "outputs": [],
   "source": []
  }
 ],
 "metadata": {
  "kernelspec": {
   "display_name": "Python 3 (ipykernel)",
   "language": "python",
   "name": "python3"
  },
  "language_info": {
   "codemirror_mode": {
    "name": "ipython",
    "version": 3
   },
   "file_extension": ".py",
   "mimetype": "text/x-python",
   "name": "python",
   "nbconvert_exporter": "python",
   "pygments_lexer": "ipython3",
   "version": "3.9.7"
  }
 },
 "nbformat": 4,
 "nbformat_minor": 5
}
